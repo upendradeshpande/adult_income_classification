{
 "cells": [
  {
   "cell_type": "code",
   "execution_count": 3,
   "id": "22088e08",
   "metadata": {},
   "outputs": [],
   "source": [
    "# importing libraries\n",
    "import pandas as pd\n",
    "import numpy as np\n",
    "\n",
    "#reading the data file and storing in an excel file\n",
    "#df = pd.read_csv(\"adult.data\", sep=\",\", header=None)\n",
    "#df.to_excel(\"adult.xlsx\") "
   ]
  },
  {
   "cell_type": "code",
   "execution_count": 4,
   "id": "a3032855",
   "metadata": {},
   "outputs": [],
   "source": [
    "df =  pd.read_excel('adult.xlsx')"
   ]
  },
  {
   "cell_type": "code",
   "execution_count": 68,
   "id": "331cb674",
   "metadata": {},
   "outputs": [
    {
     "data": {
      "text/plain": [
       "array(['<=50K', '>50K'], dtype=object)"
      ]
     },
     "execution_count": 68,
     "metadata": {},
     "output_type": "execute_result"
    }
   ],
   "source": [
    "#Checking the unique values to find the categories\n",
    "\n",
    "df['Workclass'].unique()\n",
    "df['Education'].unique()\n",
    "df['Marital Status'].unique()\n",
    "df['Occupation'].unique()\n",
    "df['Relationship'].unique()\n",
    "df['Race'].unique()\n",
    "df['Sex'].unique()\n",
    "df['Native Country'].unique()\n",
    "df['Class'].unique()"
   ]
  },
  {
   "cell_type": "code",
   "execution_count": null,
   "id": "14a5a90a",
   "metadata": {},
   "outputs": [],
   "source": [
    "# from the above output we can see that we have ' ?' and space in the every word at the beginning"
   ]
  },
  {
   "cell_type": "code",
   "execution_count": null,
   "id": "d8697b6f",
   "metadata": {},
   "outputs": [],
   "source": [
    "#use strip function on the following columns to remove the space at the beginning as well as the space at the end\n",
    "\n",
    "df['Workclass'] = df['Workclass'].str.strip()\n",
    "df['Education'] = df['Education'].str.strip()\n",
    "df['Marital Status'] = df['Marital Status'].str.strip()\n",
    "df['Occupation'] = df['Occupation'].str.strip()\n",
    "df['Relationship'] = df['Relationship'].str.strip()\n",
    "df['Race'] = df['Race'].str.strip()\n",
    "df['Sex'] = df['Sex'].str.strip()\n",
    "df['Native Country'] = df['Native Country'].str.strip()\n",
    "df['Class'] = df['Class'].str.strip()"
   ]
  },
  {
   "cell_type": "code",
   "execution_count": 54,
   "id": "d5834e4f",
   "metadata": {},
   "outputs": [],
   "source": [
    "# we need to replace '?' to unknown in the following columns\n",
    "\n",
    "df['Workclass']=df['Workclass'].replace('?','Unknown')\n",
    "df['Occupation']=df['Occupation'].replace('?','Unknown')\n",
    "df['Native Country']=df['Native Country'].replace('?','Unknown')\n",
    "df['Class']=df['Class'].replace('?','Unknown')\n"
   ]
  },
  {
   "cell_type": "code",
   "execution_count": null,
   "id": "fb89e551",
   "metadata": {},
   "outputs": [],
   "source": [
    "# in the df['Native Country'].unique() line we found that there are values in the Native Country column which\n",
    "# Cannot be recongnized by Tableau\n",
    "# Hence we need to replace them with correct names"
   ]
  },
  {
   "cell_type": "code",
   "execution_count": 65,
   "id": "61883de2",
   "metadata": {},
   "outputs": [],
   "source": [
    "#Replacing countries with correct title\n",
    "df['Native Country']=df['Native Country'].replace('South','South Africa')\n",
    "df['Native Country']=df['Native Country'].replace('Columbia','Colombia')\n",
    "df['Native Country']=df['Native Country'].replace('England','United Kingdom')\n",
    "df['Native Country']=df['Native Country'].replace('Holand-Netherlands','Netherlands')\n",
    "df['Native Country']=df['Native Country'].replace('Hong','Hong Kong')\n",
    "df['Native Country']=df['Native Country'].replace('Outlying-US(Guam-USVI-etc)','Guam')\n",
    "df['Native Country']=df['Native Country'].replace('Scotland','United Kingdom')\n",
    "df['Native Country']=df['Native Country'].replace('Trinadad&Tobago','Trinidad and Tobago')\n",
    "df['Native Country']=df['Native Country'].replace('Yugoslavia','Unknown')"
   ]
  },
  {
   "cell_type": "code",
   "execution_count": 77,
   "id": "8af1fbe5",
   "metadata": {},
   "outputs": [],
   "source": [
    "# Saving the data to excel file which can be used for tableau\n",
    "df.to_excel(\"cleaned_adult_data_reg.xlsx\", index=False)"
   ]
  },
  {
   "cell_type": "code",
   "execution_count": 70,
   "id": "21247f1f",
   "metadata": {},
   "outputs": [
    {
     "data": {
      "text/plain": [
       "Age               0\n",
       "Workclass         0\n",
       "fnlwgt            0\n",
       "Education         0\n",
       "Education Year    0\n",
       "Marital Status    0\n",
       "Occupation        0\n",
       "Relationship      0\n",
       "Race              0\n",
       "Sex               0\n",
       "Capital Gain      0\n",
       "Captial Loss      0\n",
       "Hours Per Week    0\n",
       "Native Country    0\n",
       "Class             0\n",
       "dtype: int64"
      ]
     },
     "execution_count": 70,
     "metadata": {},
     "output_type": "execute_result"
    }
   ],
   "source": [
    "df.isnull().sum()\n",
    "#There are no missing values"
   ]
  },
  {
   "cell_type": "code",
   "execution_count": 71,
   "id": "00034089",
   "metadata": {},
   "outputs": [
    {
     "data": {
      "text/plain": [
       "array(['State-gov', 'Self-emp-not-inc', 'Private', 'Federal-gov',\n",
       "       'Local-gov', 'Unknown', 'Self-emp-inc', 'Without-pay',\n",
       "       'Never-worked'], dtype=object)"
      ]
     },
     "execution_count": 71,
     "metadata": {},
     "output_type": "execute_result"
    }
   ],
   "source": [
    "#Chekcing the unique values in workclass for analysis and grouping them\n",
    "df['Workclass'].unique()"
   ]
  },
  {
   "cell_type": "code",
   "execution_count": null,
   "id": "9f09ec4e",
   "metadata": {},
   "outputs": [],
   "source": [
    "# there are 3 categories which can be combined together\n",
    "# combine : state-gov, federal-gov and local-gov and rename the group by government\n",
    "# this step can be done in tableau directly"
   ]
  },
  {
   "cell_type": "code",
   "execution_count": 72,
   "id": "b6caf997",
   "metadata": {},
   "outputs": [
    {
     "data": {
      "text/plain": [
       "array(['Adm-clerical', 'Exec-managerial', 'Handlers-cleaners',\n",
       "       'Prof-specialty', 'Other-service', 'Sales', 'Craft-repair',\n",
       "       'Transport-moving', 'Farming-fishing', 'Machine-op-inspct',\n",
       "       'Tech-support', 'Unknown', 'Protective-serv', 'Armed-Forces',\n",
       "       'Priv-house-serv'], dtype=object)"
      ]
     },
     "execution_count": 72,
     "metadata": {},
     "output_type": "execute_result"
    }
   ],
   "source": [
    "df['Occupation'].unique()"
   ]
  },
  {
   "cell_type": "code",
   "execution_count": null,
   "id": "cd2be0ff",
   "metadata": {},
   "outputs": [],
   "source": [
    "# The above occupation data can be grouped and renamed into blue-collar, white-collar, Professional, service,\n",
    "# Below groups will be done in tableau\n",
    "\n",
    "# White-Collar <- Adm-clerical, Exec-managerial\n",
    "# Blue-Collar <- Craft-repair, Farming-fishing, Handlers-cleaners, Machine-op-inspct, Transport-moving\n",
    "# Service <- Other-service, Priv-house-serv, Protective-serv, Tech-support\n",
    "# Professional <- Prof-specialty \n",
    "# Unknown <-  other/unknown\n",
    "\n",
    "# above data will give us the plot of income level for different occupations(we will calculate it's percentage)"
   ]
  },
  {
   "cell_type": "code",
   "execution_count": 73,
   "id": "7446f06f",
   "metadata": {},
   "outputs": [
    {
     "data": {
      "text/plain": [
       "array(['Never-married', 'Married-civ-spouse', 'Divorced',\n",
       "       'Married-spouse-absent', 'Separated', 'Married-AF-spouse',\n",
       "       'Widowed'], dtype=object)"
      ]
     },
     "execution_count": 73,
     "metadata": {},
     "output_type": "execute_result"
    }
   ],
   "source": [
    "df['Marital Status'].unique()"
   ]
  },
  {
   "cell_type": "code",
   "execution_count": null,
   "id": "5f64d60a",
   "metadata": {},
   "outputs": [],
   "source": [
    "# The above Marital Status data can be grouped and renamed into Married, Single\n",
    "# Below groups will be done in tableau\n",
    "\n",
    "# Married <-  Marital Status, Married-AF-spouse, Married-spouse-absent\n",
    "# Single <- Never-married\n",
    "# above data will give us the plot of income level with marital status"
   ]
  },
  {
   "cell_type": "code",
   "execution_count": null,
   "id": "31f4f925",
   "metadata": {},
   "outputs": [],
   "source": [
    "# Next plot will give us Race, Income and its count or percentages"
   ]
  },
  {
   "cell_type": "code",
   "execution_count": null,
   "id": "d928d5f1",
   "metadata": {},
   "outputs": [],
   "source": [
    "# female male using image\n",
    "# age histogram with mean\n",
    "# Radical bar\n",
    "# Map Visual with filters\n",
    "# dual axis plot "
   ]
  },
  {
   "cell_type": "code",
   "execution_count": 75,
   "id": "3a07e998",
   "metadata": {},
   "outputs": [],
   "source": [
    "# The best thing is doing regression model for predicting earing potential\n",
    "# to perform regression analysis we need numerical data \n",
    "# we can convert the class to 0 and 1"
   ]
  },
  {
   "cell_type": "code",
   "execution_count": 102,
   "id": "41da5ea8",
   "metadata": {},
   "outputs": [],
   "source": [
    "df =  pd.read_excel('cleaned_adult_data.xlsx')"
   ]
  },
  {
   "cell_type": "code",
   "execution_count": 106,
   "id": "1022651a",
   "metadata": {},
   "outputs": [],
   "source": [
    "df2=df.copy()\n",
    "df2['Occupation'] = df2['Occupation'].map({'Unknown': 0, 'Farming-fishing': 1, 'Tech-support': 2, \n",
    "                                                       'Adm-clerical': 3, 'Handlers-cleaners': 4, 'Prof-specialty': 5,\n",
    "                                                       'Machine-op-inspct': 6, 'Exec-managerial': 7, \n",
    "                                                       'Priv-house-serv': 8, 'Craft-repair': 9, 'Sales': 10, \n",
    "                                                       'Transport-moving': 11, 'Armed-Forces': 12, 'Other-service': 13, \n",
    "                                                       'Protective-serv': 14}).astype(int)"
   ]
  },
  {
   "cell_type": "code",
   "execution_count": 107,
   "id": "71333256",
   "metadata": {},
   "outputs": [],
   "source": [
    "df2['Class'] = df2['Class'].map({'<=50K': 0, '>50K': 1}).astype(int)"
   ]
  },
  {
   "cell_type": "code",
   "execution_count": 108,
   "id": "20e1fb4d",
   "metadata": {},
   "outputs": [],
   "source": [
    "df2['Race'] = df2['Race'].map({'Black': 0, 'Asian-Pac-Islander': 1, 'Other': 2, 'White': 3, \n",
    "                                             'Amer-Indian-Eskimo': 4}).astype(int)"
   ]
  },
  {
   "cell_type": "code",
   "execution_count": 109,
   "id": "138b186e",
   "metadata": {},
   "outputs": [],
   "source": [
    "df2['Marital Status'] = df2['Marital Status'].map({'Married-spouse-absent': 0, 'Widowed': 1, \n",
    "                                                             'Married-civ-spouse': 2, 'Separated': 3, 'Divorced': 4, \n",
    "                                                             'Never-married': 5, 'Married-AF-spouse': 6}).astype(int)"
   ]
  },
  {
   "cell_type": "code",
   "execution_count": 110,
   "id": "6fee597c",
   "metadata": {},
   "outputs": [],
   "source": [
    "df2.Occupation.replace(0, np.nan, inplace=True)"
   ]
  },
  {
   "cell_type": "code",
   "execution_count": 111,
   "id": "550ad4db",
   "metadata": {},
   "outputs": [
    {
     "data": {
      "text/plain": [
       "array(['Bachelors', 'HS-grad', '11th', 'Masters', '9th', 'Some-college',\n",
       "       'Assoc-acdm', 'Assoc-voc', '7th-8th', 'Doctorate', 'Prof-school',\n",
       "       '5th-6th', '10th', '1st-4th', 'Preschool', '12th'], dtype=object)"
      ]
     },
     "execution_count": 111,
     "metadata": {},
     "output_type": "execute_result"
    }
   ],
   "source": [
    "#workclass\n",
    "#relationship\n",
    "#sex\n",
    "df2['Education'].unique()\n"
   ]
  },
  {
   "cell_type": "code",
   "execution_count": 112,
   "id": "3dd37afd",
   "metadata": {},
   "outputs": [],
   "source": [
    "df2['Education'] = df2['Education'].map({'Bachelors': 0, 'HS-grad': 1, \n",
    "                                                             '11th': 2, 'Masters': 3, '9th': 4, \n",
    "                                                             'Some-college': 5, 'Assoc-acdm': 6,'Assoc-voc': 7, '7th-8th': 8, \n",
    "                                                             'Doctorate': 9, 'Prof-school': 10, '5th-6th': 11, \n",
    "                                                             '10th': 12, '1st-4th': 13,'Preschool':14,'12th':15}).astype(int)"
   ]
  },
  {
   "cell_type": "code",
   "execution_count": 113,
   "id": "a67eb7dc",
   "metadata": {},
   "outputs": [],
   "source": [
    "df2['Workclass'] = df2['Workclass'].map({'State-gov': 0, 'Self-emp-not-inc': 1, \n",
    "                                                             'Private': 2, 'Federal-gov': 3, 'Local-gov': 4, \n",
    "                                                             'Unknown': 5, 'Self-emp-inc': 6,'Without-pay':7,'Never-worked':8}).astype(int)"
   ]
  },
  {
   "cell_type": "code",
   "execution_count": 114,
   "id": "547622f4",
   "metadata": {},
   "outputs": [],
   "source": [
    "df2['Relationship'] = df2['Relationship'].map({'Not-in-family': 0, 'Husband': 1, \n",
    "                                                             'Wife': 2, 'Own-child': 3, 'Unmarried': 4, \n",
    "                                                             'Other-relative': 5}).astype(int)"
   ]
  },
  {
   "cell_type": "code",
   "execution_count": 115,
   "id": "c2b7fa12",
   "metadata": {},
   "outputs": [],
   "source": [
    "df2['Sex'] = df2['Sex'].map({'Male': 0, 'Female': 1}).astype(int)"
   ]
  },
  {
   "cell_type": "code",
   "execution_count": 116,
   "id": "6f6cddfa",
   "metadata": {},
   "outputs": [
    {
     "data": {
      "text/html": [
       "<div>\n",
       "<style scoped>\n",
       "    .dataframe tbody tr th:only-of-type {\n",
       "        vertical-align: middle;\n",
       "    }\n",
       "\n",
       "    .dataframe tbody tr th {\n",
       "        vertical-align: top;\n",
       "    }\n",
       "\n",
       "    .dataframe thead th {\n",
       "        text-align: right;\n",
       "    }\n",
       "</style>\n",
       "<table border=\"1\" class=\"dataframe\">\n",
       "  <thead>\n",
       "    <tr style=\"text-align: right;\">\n",
       "      <th></th>\n",
       "      <th>Age</th>\n",
       "      <th>Workclass</th>\n",
       "      <th>fnlwgt</th>\n",
       "      <th>Education</th>\n",
       "      <th>Education Year</th>\n",
       "      <th>Marital Status</th>\n",
       "      <th>Occupation</th>\n",
       "      <th>Relationship</th>\n",
       "      <th>Race</th>\n",
       "      <th>Sex</th>\n",
       "      <th>Capital Gain</th>\n",
       "      <th>Captial Loss</th>\n",
       "      <th>Hours Per Week</th>\n",
       "      <th>Native Country</th>\n",
       "      <th>Class</th>\n",
       "      <th>Country_Weblink</th>\n",
       "    </tr>\n",
       "  </thead>\n",
       "  <tbody>\n",
       "    <tr>\n",
       "      <th>0</th>\n",
       "      <td>39</td>\n",
       "      <td>0</td>\n",
       "      <td>77516</td>\n",
       "      <td>0</td>\n",
       "      <td>13</td>\n",
       "      <td>5</td>\n",
       "      <td>3.0</td>\n",
       "      <td>0</td>\n",
       "      <td>3</td>\n",
       "      <td>0</td>\n",
       "      <td>2174</td>\n",
       "      <td>0</td>\n",
       "      <td>40</td>\n",
       "      <td>United-States</td>\n",
       "      <td>0</td>\n",
       "      <td>us</td>\n",
       "    </tr>\n",
       "    <tr>\n",
       "      <th>1</th>\n",
       "      <td>50</td>\n",
       "      <td>1</td>\n",
       "      <td>83311</td>\n",
       "      <td>0</td>\n",
       "      <td>13</td>\n",
       "      <td>2</td>\n",
       "      <td>7.0</td>\n",
       "      <td>1</td>\n",
       "      <td>3</td>\n",
       "      <td>0</td>\n",
       "      <td>0</td>\n",
       "      <td>0</td>\n",
       "      <td>13</td>\n",
       "      <td>United-States</td>\n",
       "      <td>0</td>\n",
       "      <td>us</td>\n",
       "    </tr>\n",
       "    <tr>\n",
       "      <th>2</th>\n",
       "      <td>38</td>\n",
       "      <td>2</td>\n",
       "      <td>215646</td>\n",
       "      <td>1</td>\n",
       "      <td>9</td>\n",
       "      <td>4</td>\n",
       "      <td>4.0</td>\n",
       "      <td>0</td>\n",
       "      <td>3</td>\n",
       "      <td>0</td>\n",
       "      <td>0</td>\n",
       "      <td>0</td>\n",
       "      <td>40</td>\n",
       "      <td>United-States</td>\n",
       "      <td>0</td>\n",
       "      <td>us</td>\n",
       "    </tr>\n",
       "    <tr>\n",
       "      <th>3</th>\n",
       "      <td>53</td>\n",
       "      <td>2</td>\n",
       "      <td>234721</td>\n",
       "      <td>2</td>\n",
       "      <td>7</td>\n",
       "      <td>2</td>\n",
       "      <td>4.0</td>\n",
       "      <td>1</td>\n",
       "      <td>0</td>\n",
       "      <td>0</td>\n",
       "      <td>0</td>\n",
       "      <td>0</td>\n",
       "      <td>40</td>\n",
       "      <td>United-States</td>\n",
       "      <td>0</td>\n",
       "      <td>us</td>\n",
       "    </tr>\n",
       "    <tr>\n",
       "      <th>4</th>\n",
       "      <td>28</td>\n",
       "      <td>2</td>\n",
       "      <td>338409</td>\n",
       "      <td>0</td>\n",
       "      <td>13</td>\n",
       "      <td>2</td>\n",
       "      <td>5.0</td>\n",
       "      <td>2</td>\n",
       "      <td>0</td>\n",
       "      <td>1</td>\n",
       "      <td>0</td>\n",
       "      <td>0</td>\n",
       "      <td>40</td>\n",
       "      <td>Cuba</td>\n",
       "      <td>0</td>\n",
       "      <td>cuba</td>\n",
       "    </tr>\n",
       "  </tbody>\n",
       "</table>\n",
       "</div>"
      ],
      "text/plain": [
       "   Age  Workclass  fnlwgt  Education  Education Year  Marital Status  \\\n",
       "0   39          0   77516          0              13               5   \n",
       "1   50          1   83311          0              13               2   \n",
       "2   38          2  215646          1               9               4   \n",
       "3   53          2  234721          2               7               2   \n",
       "4   28          2  338409          0              13               2   \n",
       "\n",
       "   Occupation  Relationship  Race  Sex  Capital Gain  Captial Loss  \\\n",
       "0         3.0             0     3    0          2174             0   \n",
       "1         7.0             1     3    0             0             0   \n",
       "2         4.0             0     3    0             0             0   \n",
       "3         4.0             1     0    0             0             0   \n",
       "4         5.0             2     0    1             0             0   \n",
       "\n",
       "   Hours Per Week Native Country  Class Country_Weblink  \n",
       "0              40  United-States      0              us  \n",
       "1              13  United-States      0              us  \n",
       "2              40  United-States      0              us  \n",
       "3              40  United-States      0              us  \n",
       "4              40           Cuba      0            cuba  "
      ]
     },
     "execution_count": 116,
     "metadata": {},
     "output_type": "execute_result"
    }
   ],
   "source": [
    "df2.head()"
   ]
  },
  {
   "cell_type": "code",
   "execution_count": null,
   "id": "4574347d",
   "metadata": {},
   "outputs": [],
   "source": [
    "#Inferences:\n",
    "\n",
    "#Married citizens with spouse have higher chances of earning more than those who're unmarried/divorced/widowed/separated.\n",
    "#Males on an average make earn more than females.\n",
    "#Higher Education can lead to higher income in most cases.\n",
    "#Asian-Pacific-Islanders and white are two races that have the highest average income."
   ]
  },
  {
   "cell_type": "code",
   "execution_count": 83,
   "id": "5bd07697",
   "metadata": {},
   "outputs": [],
   "source": [
    "#Plot Correlation and based on abs corr we can decide best factors\n",
    "#education number\n",
    "#age\n",
    "#hours per week\n",
    "# relationship \n",
    "# marital status\n",
    "#df.to_excel(\"cleaned_adult_data_numerical.xlsx\", index=False)\n"
   ]
  },
  {
   "cell_type": "code",
   "execution_count": 117,
   "id": "366b399e",
   "metadata": {},
   "outputs": [
    {
     "data": {
      "text/html": [
       "<div>\n",
       "<style scoped>\n",
       "    .dataframe tbody tr th:only-of-type {\n",
       "        vertical-align: middle;\n",
       "    }\n",
       "\n",
       "    .dataframe tbody tr th {\n",
       "        vertical-align: top;\n",
       "    }\n",
       "\n",
       "    .dataframe thead th {\n",
       "        text-align: right;\n",
       "    }\n",
       "</style>\n",
       "<table border=\"1\" class=\"dataframe\">\n",
       "  <thead>\n",
       "    <tr style=\"text-align: right;\">\n",
       "      <th></th>\n",
       "      <th>Column</th>\n",
       "      <th>Correlation</th>\n",
       "      <th>absolute_cor</th>\n",
       "    </tr>\n",
       "  </thead>\n",
       "  <tbody>\n",
       "    <tr>\n",
       "      <th>0</th>\n",
       "      <td>Marital Status</td>\n",
       "      <td>-0.363755</td>\n",
       "      <td>0.363755</td>\n",
       "    </tr>\n",
       "    <tr>\n",
       "      <th>2</th>\n",
       "      <td>Education Year</td>\n",
       "      <td>0.335154</td>\n",
       "      <td>0.335154</td>\n",
       "    </tr>\n",
       "    <tr>\n",
       "      <th>1</th>\n",
       "      <td>Age</td>\n",
       "      <td>0.234037</td>\n",
       "      <td>0.234037</td>\n",
       "    </tr>\n",
       "    <tr>\n",
       "      <th>6</th>\n",
       "      <td>Hours Per Week</td>\n",
       "      <td>0.229689</td>\n",
       "      <td>0.229689</td>\n",
       "    </tr>\n",
       "    <tr>\n",
       "      <th>5</th>\n",
       "      <td>Sex</td>\n",
       "      <td>-0.215980</td>\n",
       "      <td>0.215980</td>\n",
       "    </tr>\n",
       "    <tr>\n",
       "      <th>3</th>\n",
       "      <td>Relationship</td>\n",
       "      <td>-0.171294</td>\n",
       "      <td>0.171294</td>\n",
       "    </tr>\n",
       "    <tr>\n",
       "      <th>4</th>\n",
       "      <td>Race</td>\n",
       "      <td>0.079782</td>\n",
       "      <td>0.079782</td>\n",
       "    </tr>\n",
       "    <tr>\n",
       "      <th>7</th>\n",
       "      <td>Education</td>\n",
       "      <td>-0.046218</td>\n",
       "      <td>0.046218</td>\n",
       "    </tr>\n",
       "  </tbody>\n",
       "</table>\n",
       "</div>"
      ],
      "text/plain": [
       "           Column  Correlation  absolute_cor\n",
       "0  Marital Status    -0.363755      0.363755\n",
       "2  Education Year     0.335154      0.335154\n",
       "1             Age     0.234037      0.234037\n",
       "6  Hours Per Week     0.229689      0.229689\n",
       "5             Sex    -0.215980      0.215980\n",
       "3    Relationship    -0.171294      0.171294\n",
       "4            Race     0.079782      0.079782\n",
       "7       Education    -0.046218      0.046218"
      ]
     },
     "execution_count": 117,
     "metadata": {},
     "output_type": "execute_result"
    }
   ],
   "source": [
    "from scipy.stats import pointbiserialr\n",
    "from scipy.stats import spearmanr\n",
    "#colnames=df2.columns\n",
    "colnames=['Marital Status','Age', 'Education Year','Relationship','Race','Sex','Hours Per Week','Education']\n",
    "param=[]\n",
    "cor=[]\n",
    "abs_cor=[]\n",
    "for c in colnames:\n",
    "    if c!='Class':\n",
    "        if len(df2[c].unique())<=2:\n",
    "            corr=spearmanr(df2['Class'],df2[c])[0]\n",
    "        else:\n",
    "            corr=pointbiserialr(df2['Class'],df2[c])[0]\n",
    "        param.append(c)\n",
    "        cor.append(corr)\n",
    "        abs_cor.append(abs(corr))\n",
    "par_df= pd.DataFrame({'Column':param,'Correlation':cor,'absolute_cor':abs_cor})\n",
    "par_df=par_df.sort_values(by=['absolute_cor'],ascending=False)\n",
    "par_df"
   ]
  },
  {
   "cell_type": "code",
   "execution_count": 104,
   "id": "455cf069",
   "metadata": {},
   "outputs": [],
   "source": [
    "df['Country_Weblink'] = df['Native Country'].str.lower()\n",
    "df['Country_Weblink']=df['Country_Weblink'].replace('united-states','us')\n",
    "df['Country_Weblink']=df['Country_Weblink'].replace('united kingdom','uk')"
   ]
  },
  {
   "cell_type": "code",
   "execution_count": 120,
   "id": "e2436d97",
   "metadata": {},
   "outputs": [],
   "source": [
    "with pd.ExcelWriter(\"cleaned_adult_data.xlsx\") as writer:\n",
    "    df.to_excel(writer, sheet_name=\"Adult Data\", index=False)\n",
    "    df2.to_excel(writer, sheet_name=\"Adult Numerical Data\", index=False)\n",
    "    par_df.to_excel(writer, sheet_name=\"Correlation\", index=False)"
   ]
  },
  {
   "cell_type": "code",
   "execution_count": 121,
   "id": "2d9db21d",
   "metadata": {
    "scrolled": true
   },
   "outputs": [
    {
     "data": {
      "text/html": [
       "<div>\n",
       "<style scoped>\n",
       "    .dataframe tbody tr th:only-of-type {\n",
       "        vertical-align: middle;\n",
       "    }\n",
       "\n",
       "    .dataframe tbody tr th {\n",
       "        vertical-align: top;\n",
       "    }\n",
       "\n",
       "    .dataframe thead th {\n",
       "        text-align: right;\n",
       "    }\n",
       "</style>\n",
       "<table border=\"1\" class=\"dataframe\">\n",
       "  <thead>\n",
       "    <tr style=\"text-align: right;\">\n",
       "      <th></th>\n",
       "      <th>Age</th>\n",
       "      <th>Workclass</th>\n",
       "      <th>fnlwgt</th>\n",
       "      <th>Education</th>\n",
       "      <th>Education Year</th>\n",
       "      <th>Marital Status</th>\n",
       "      <th>Occupation</th>\n",
       "      <th>Relationship</th>\n",
       "      <th>Race</th>\n",
       "      <th>Sex</th>\n",
       "      <th>Capital Gain</th>\n",
       "      <th>Captial Loss</th>\n",
       "      <th>Hours Per Week</th>\n",
       "      <th>Native Country</th>\n",
       "      <th>Class</th>\n",
       "      <th>Country_Weblink</th>\n",
       "    </tr>\n",
       "  </thead>\n",
       "  <tbody>\n",
       "    <tr>\n",
       "      <th>0</th>\n",
       "      <td>39</td>\n",
       "      <td>State-gov</td>\n",
       "      <td>77516</td>\n",
       "      <td>Bachelors</td>\n",
       "      <td>13</td>\n",
       "      <td>Never-married</td>\n",
       "      <td>Adm-clerical</td>\n",
       "      <td>Not-in-family</td>\n",
       "      <td>White</td>\n",
       "      <td>Male</td>\n",
       "      <td>2174</td>\n",
       "      <td>0</td>\n",
       "      <td>40</td>\n",
       "      <td>United-States</td>\n",
       "      <td>&lt;=50K</td>\n",
       "      <td>us</td>\n",
       "    </tr>\n",
       "    <tr>\n",
       "      <th>1</th>\n",
       "      <td>50</td>\n",
       "      <td>Self-emp-not-inc</td>\n",
       "      <td>83311</td>\n",
       "      <td>Bachelors</td>\n",
       "      <td>13</td>\n",
       "      <td>Married-civ-spouse</td>\n",
       "      <td>Exec-managerial</td>\n",
       "      <td>Husband</td>\n",
       "      <td>White</td>\n",
       "      <td>Male</td>\n",
       "      <td>0</td>\n",
       "      <td>0</td>\n",
       "      <td>13</td>\n",
       "      <td>United-States</td>\n",
       "      <td>&lt;=50K</td>\n",
       "      <td>us</td>\n",
       "    </tr>\n",
       "    <tr>\n",
       "      <th>2</th>\n",
       "      <td>38</td>\n",
       "      <td>Private</td>\n",
       "      <td>215646</td>\n",
       "      <td>HS-grad</td>\n",
       "      <td>9</td>\n",
       "      <td>Divorced</td>\n",
       "      <td>Handlers-cleaners</td>\n",
       "      <td>Not-in-family</td>\n",
       "      <td>White</td>\n",
       "      <td>Male</td>\n",
       "      <td>0</td>\n",
       "      <td>0</td>\n",
       "      <td>40</td>\n",
       "      <td>United-States</td>\n",
       "      <td>&lt;=50K</td>\n",
       "      <td>us</td>\n",
       "    </tr>\n",
       "    <tr>\n",
       "      <th>3</th>\n",
       "      <td>53</td>\n",
       "      <td>Private</td>\n",
       "      <td>234721</td>\n",
       "      <td>11th</td>\n",
       "      <td>7</td>\n",
       "      <td>Married-civ-spouse</td>\n",
       "      <td>Handlers-cleaners</td>\n",
       "      <td>Husband</td>\n",
       "      <td>Black</td>\n",
       "      <td>Male</td>\n",
       "      <td>0</td>\n",
       "      <td>0</td>\n",
       "      <td>40</td>\n",
       "      <td>United-States</td>\n",
       "      <td>&lt;=50K</td>\n",
       "      <td>us</td>\n",
       "    </tr>\n",
       "    <tr>\n",
       "      <th>4</th>\n",
       "      <td>28</td>\n",
       "      <td>Private</td>\n",
       "      <td>338409</td>\n",
       "      <td>Bachelors</td>\n",
       "      <td>13</td>\n",
       "      <td>Married-civ-spouse</td>\n",
       "      <td>Prof-specialty</td>\n",
       "      <td>Wife</td>\n",
       "      <td>Black</td>\n",
       "      <td>Female</td>\n",
       "      <td>0</td>\n",
       "      <td>0</td>\n",
       "      <td>40</td>\n",
       "      <td>Cuba</td>\n",
       "      <td>&lt;=50K</td>\n",
       "      <td>cuba</td>\n",
       "    </tr>\n",
       "  </tbody>\n",
       "</table>\n",
       "</div>"
      ],
      "text/plain": [
       "   Age         Workclass  fnlwgt  Education  Education Year  \\\n",
       "0   39         State-gov   77516  Bachelors              13   \n",
       "1   50  Self-emp-not-inc   83311  Bachelors              13   \n",
       "2   38           Private  215646    HS-grad               9   \n",
       "3   53           Private  234721       11th               7   \n",
       "4   28           Private  338409  Bachelors              13   \n",
       "\n",
       "       Marital Status         Occupation   Relationship   Race     Sex  \\\n",
       "0       Never-married       Adm-clerical  Not-in-family  White    Male   \n",
       "1  Married-civ-spouse    Exec-managerial        Husband  White    Male   \n",
       "2            Divorced  Handlers-cleaners  Not-in-family  White    Male   \n",
       "3  Married-civ-spouse  Handlers-cleaners        Husband  Black    Male   \n",
       "4  Married-civ-spouse     Prof-specialty           Wife  Black  Female   \n",
       "\n",
       "   Capital Gain  Captial Loss  Hours Per Week Native Country  Class  \\\n",
       "0          2174             0              40  United-States  <=50K   \n",
       "1             0             0              13  United-States  <=50K   \n",
       "2             0             0              40  United-States  <=50K   \n",
       "3             0             0              40  United-States  <=50K   \n",
       "4             0             0              40           Cuba  <=50K   \n",
       "\n",
       "  Country_Weblink  \n",
       "0              us  \n",
       "1              us  \n",
       "2              us  \n",
       "3              us  \n",
       "4            cuba  "
      ]
     },
     "execution_count": 121,
     "metadata": {},
     "output_type": "execute_result"
    }
   ],
   "source": [
    "df.head()"
   ]
  },
  {
   "cell_type": "code",
   "execution_count": null,
   "id": "734a7894",
   "metadata": {},
   "outputs": [],
   "source": []
  }
 ],
 "metadata": {
  "kernelspec": {
   "display_name": "Python 3",
   "language": "python",
   "name": "python3"
  },
  "language_info": {
   "codemirror_mode": {
    "name": "ipython",
    "version": 3
   },
   "file_extension": ".py",
   "mimetype": "text/x-python",
   "name": "python",
   "nbconvert_exporter": "python",
   "pygments_lexer": "ipython3",
   "version": "3.8.8"
  }
 },
 "nbformat": 4,
 "nbformat_minor": 5
}
